{
  "nbformat": 4,
  "nbformat_minor": 0,
  "metadata": {
    "colab": {
      "provenance": [],
      "gpuType": "T4"
    },
    "kernelspec": {
      "name": "python3",
      "display_name": "Python 3"
    },
    "language_info": {
      "name": "python"
    },
    "accelerator": "GPU"
  },
  "cells": [
    {
      "cell_type": "code",
      "execution_count": 1,
      "metadata": {
        "colab": {
          "base_uri": "https://localhost:8080/"
        },
        "id": "lrvomDFKUNqd",
        "outputId": "aeba1db5-932e-4600-ac6d-31ed6abceae9"
      },
      "outputs": [
        {
          "output_type": "stream",
          "name": "stdout",
          "text": [
            "Mounted at /content/drive\n"
          ]
        }
      ],
      "source": [
        "from google.colab import drive\n",
        "drive.mount('/content/drive')\n",
        "\n",
        "IMG_PATH = '/content/drive/MyDrive/Practica_final/COVID-19-CT-Seg_20cases'\n",
        "MASK_PATH = '/content/drive/MyDrive/Practica_final/Infection_Mask'\n"
      ]
    },
    {
      "cell_type": "code",
      "source": [
        "import os\n",
        "import nibabel as nib\n",
        "import numpy as np\n",
        "import matplotlib.pyplot as plt\n",
        "import cv2\n",
        "from tensorflow.keras import layers, models\n",
        "import tensorflow as tf\n",
        "from sklearn.model_selection import train_test_split\n"
      ],
      "metadata": {
        "id": "VvLrLCJDDYw3"
      },
      "execution_count": 2,
      "outputs": []
    },
    {
      "cell_type": "code",
      "source": [
        "def load_nifti(filepath):\n",
        "    return nib.load(filepath).get_fdata()\n",
        "\n",
        "def preprocess_slice(img_slice, mask_slice, target_size=(128,128)):\n",
        "    img_resized = cv2.resize(img_slice, target_size)\n",
        "    mask_resized = cv2.resize(mask_slice, target_size, interpolation=cv2.INTER_NEAREST)\n",
        "\n",
        "    # Normalización\n",
        "    img_resized = (img_resized - np.min(img_resized)) / (np.max(img_resized) - np.min(img_resized) + 1e-7)\n",
        "\n",
        "    return img_resized, mask_resized\n"
      ],
      "metadata": {
        "id": "qdspZvNSDlp6"
      },
      "execution_count": 3,
      "outputs": []
    },
    {
      "cell_type": "code",
      "source": [
        "X = []\n",
        "Y = []\n",
        "\n",
        "img_files = sorted([f for f in os.listdir(IMG_PATH) if f.endswith('.nii.gz')])\n",
        "\n",
        "for file in img_files:\n",
        "    img_file = os.path.join(IMG_PATH, file)\n",
        "    mask_file = os.path.join(MASK_PATH, file)\n",
        "\n",
        "    if not os.path.exists(mask_file):\n",
        "        print(f\"Máscara no encontrada para {file}, se omite.\")\n",
        "        continue\n",
        "\n",
        "    img_vol = load_nifti(img_file)\n",
        "    mask_vol = load_nifti(mask_file)\n",
        "\n",
        "    for z in range(img_vol.shape[2]):\n",
        "        img_slice = img_vol[:,:,z]\n",
        "        mask_slice = mask_vol[:,:,z]\n",
        "\n",
        "        if np.sum(mask_slice) > 50:\n",
        "            img_prep, mask_prep = preprocess_slice(img_slice, mask_slice)\n",
        "            X.append(img_prep)\n",
        "            Y.append(mask_prep)\n",
        "\n",
        "X = np.expand_dims(np.array(X), -1)\n",
        "Y = np.expand_dims(np.array(Y), -1)\n",
        "print(f\"Slices cargados: {X.shape[0]}\")\n"
      ],
      "metadata": {
        "colab": {
          "base_uri": "https://localhost:8080/"
        },
        "id": "6AswrsyPDpNq",
        "outputId": "ab29c5df-535e-495b-a913-fa80cb6dedb8"
      },
      "execution_count": 5,
      "outputs": [
        {
          "output_type": "stream",
          "name": "stdout",
          "text": [
            "Slices cargados: 1837\n"
          ]
        }
      ]
    },
    {
      "cell_type": "code",
      "source": [
        "X_train, X_temp, Y_train, Y_temp = train_test_split(X, Y, test_size=0.3, random_state=42)\n",
        "X_val, X_test, Y_val, Y_test = train_test_split(X_temp, Y_temp, test_size=0.5, random_state=42)\n",
        "\n",
        "print(f\"Train: {X_train.shape[0]}, Val: {X_val.shape[0]}, Test: {X_test.shape[0]}\")\n"
      ],
      "metadata": {
        "colab": {
          "base_uri": "https://localhost:8080/"
        },
        "id": "aS1jUeOhDq3y",
        "outputId": "67ed2651-7cf7-49e0-8c99-43cec1059e2a"
      },
      "execution_count": 6,
      "outputs": [
        {
          "output_type": "stream",
          "name": "stdout",
          "text": [
            "Train: 1285, Val: 276, Test: 276\n"
          ]
        }
      ]
    }
  ]
}